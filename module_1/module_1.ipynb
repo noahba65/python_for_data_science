{
 "cells": [
  {
   "cell_type": "markdown",
   "id": "f3e5617e-5e74-4018-b70f-9bcb887baac8",
   "metadata": {},
   "source": [
    "Noah Anderson  \n",
    "Module 1  \n",
    "6/6/20224  "
   ]
  },
  {
   "cell_type": "markdown",
   "id": "227e1634-0d20-4151-865e-332cff63bd62",
   "metadata": {},
   "source": [
    "# Question 1 "
   ]
  },
  {
   "cell_type": "markdown",
   "id": "d26fa8f5-3e5b-4475-ad1d-75825c4d7e11",
   "metadata": {},
   "source": [
    "## a. \n",
    "Shown below is the R code output:"
   ]
  },
  {
   "cell_type": "markdown",
   "id": "2d3e8704-f512-4d4f-86eb-32adc92c7bd8",
   "metadata": {},
   "source": [
    "> listed_range <- c(265, 270, 272, 223)  \r",
    "> tested_range <- listed_range  \r",
    "> tested_range[2] <- 289   \r",
    "> listed_range  \r",
    "[1] 265 270 272 223  \r",
    "> tested_range  \r",
    "[1] 265 289 272 223  "
   ]
  },
  {
   "cell_type": "markdown",
   "id": "71661155-be65-41b0-bb86-72c7ef043bed",
   "metadata": {},
   "source": [
    "## b."
   ]
  },
  {
   "cell_type": "code",
   "execution_count": 196,
   "id": "8d4ef648-6c5d-4b9a-be66-b786e8eb3d23",
   "metadata": {},
   "outputs": [
    {
     "name": "stdout",
     "output_type": "stream",
     "text": [
      "[265, 289, 272, 223]\n",
      "[265, 289, 272, 223]\n"
     ]
    }
   ],
   "source": [
    "# Define range as a list\n",
    "listed_range = [265, 270, 272, 223]\n",
    "\n",
    "# Create tested_range \n",
    "tested_range = listed_range\n",
    "\n",
    "# Change the first element\n",
    "tested_range[1] = 289\n",
    "\n",
    "# Print the lists\n",
    "print(listed_range)\n",
    "print(tested_range)"
   ]
  },
  {
   "cell_type": "markdown",
   "id": "bf78323d-c122-4d2b-bad3-fc222f28520a",
   "metadata": {},
   "source": [
    "In R, `listed_range` and `tested_range` differ in the second element (2nd according to R indexing). In Python, the lists are identical. This is because in R, vectors \"copy\" on modify, meaning that when you change something in the second vector it creates a copy and keeps the original as it was. In Python, lists are \"modified in place\", meaning a copy is not made when you make changes to the second defined list. Instead the `tested_range` and `listed_range` refer to the same list. "
   ]
  },
  {
   "cell_type": "markdown",
   "id": "3c9790a0-a7cc-4eae-94e8-67122a6b88ee",
   "metadata": {},
   "source": [
    "## c. "
   ]
  },
  {
   "cell_type": "code",
   "execution_count": 162,
   "id": "83cd5709-3289-4277-b5ce-ea2f40dac046",
   "metadata": {},
   "outputs": [
    {
     "ename": "TypeError",
     "evalue": "'tuple' object does not support item assignment",
     "output_type": "error",
     "traceback": [
      "\u001b[0;31m---------------------------------------------------------------------------\u001b[0m",
      "\u001b[0;31mTypeError\u001b[0m                                 Traceback (most recent call last)",
      "Cell \u001b[0;32mIn[162], line 3\u001b[0m\n\u001b[1;32m      1\u001b[0m listed_range \u001b[38;5;241m=\u001b[39m (\u001b[38;5;241m265\u001b[39m, \u001b[38;5;241m270\u001b[39m, \u001b[38;5;241m272\u001b[39m, \u001b[38;5;241m223\u001b[39m)\n\u001b[1;32m      2\u001b[0m tested_range \u001b[38;5;241m=\u001b[39m listed_range\n\u001b[0;32m----> 3\u001b[0m tested_range[\u001b[38;5;241m1\u001b[39m] \u001b[38;5;241m=\u001b[39m \u001b[38;5;241m289\u001b[39m\n\u001b[1;32m      4\u001b[0m \u001b[38;5;28mprint\u001b[39m(listed_range)\n\u001b[1;32m      5\u001b[0m \u001b[38;5;28mprint\u001b[39m(tested_range)\n",
      "\u001b[0;31mTypeError\u001b[0m: 'tuple' object does not support item assignment"
     ]
    }
   ],
   "source": [
    "# Define range as a tuple\n",
    "listed_range = (265, 270, 272, 223)\n",
    "\n",
    "# Define tested_range\n",
    "tested_range = listed_range\n",
    "\n",
    "# Redefine the 1st element\n",
    "tested_range[1] = 289\n",
    "\n",
    "# Print tuples\n",
    "print(listed_range)\n",
    "print(tested_range)\n"
   ]
  },
  {
   "cell_type": "markdown",
   "id": "d07e8903-1deb-4087-926e-3a693d0303fe",
   "metadata": {},
   "source": [
    "The error \"'tuple' object does not support item assignment\" occurs because tuples are immutable meaning that once a tuple has been defined, you cannot make changes to its elements. "
   ]
  },
  {
   "cell_type": "markdown",
   "id": "7b9c89bc-d674-41c8-9576-4c83253995dc",
   "metadata": {},
   "source": [
    "## d."
   ]
  },
  {
   "cell_type": "code",
   "execution_count": 166,
   "id": "5b42b921-ce4a-488c-ba70-2a1e22015b50",
   "metadata": {},
   "outputs": [
    {
     "name": "stdout",
     "output_type": "stream",
     "text": [
      "array('i', [265, 289, 272, 223])\n",
      "array('i', [265, 289, 272, 223])\n"
     ]
    }
   ],
   "source": [
    "import array as arr\n",
    "\n",
    "# Define range as an array using the array package\n",
    "listed_range = arr.array('i', [265, 270, 272, 223])\n",
    "tested_range = listed_range\n",
    "tested_range[1] = 289\n",
    "\n",
    "print(listed_range)\n",
    "print(tested_range)"
   ]
  },
  {
   "cell_type": "markdown",
   "id": "23f11a2c-6293-4b6a-9d34-6bff8085b8f5",
   "metadata": {},
   "source": [
    "Arrays also modify in place like lists. "
   ]
  },
  {
   "cell_type": "markdown",
   "id": "9b4fc34c-7fba-40c4-a3dc-449642ec4e22",
   "metadata": {},
   "source": [
    "## e."
   ]
  },
  {
   "cell_type": "code",
   "execution_count": 170,
   "id": "5f519acf-d2ef-41af-a694-2bc87d1ba8c6",
   "metadata": {},
   "outputs": [
    {
     "name": "stdout",
     "output_type": "stream",
     "text": [
      "[265 289 272 223]\n",
      "[265 289 272 223]\n"
     ]
    }
   ],
   "source": [
    "import numpy as np\n",
    "\n",
    "# Define range as a NumPy array\n",
    "listed_range = np.array([265, 270, 272, 223])\n",
    "tested_range = listed_range\n",
    "tested_range[1] = 289\n",
    "\n",
    "print(listed_range)\n",
    "print(tested_range)"
   ]
  },
  {
   "cell_type": "markdown",
   "id": "e701589c-68a8-4d09-a748-c0a2cdfd065d",
   "metadata": {},
   "source": [
    "NumPy arrays also modify in place. "
   ]
  },
  {
   "cell_type": "markdown",
   "id": "855c4860-76cc-4c90-b2ba-0415b524eef1",
   "metadata": {},
   "source": [
    "## f."
   ]
  },
  {
   "cell_type": "code",
   "execution_count": 198,
   "id": "ad8a4328-d407-4a29-948f-b2ecc09238d5",
   "metadata": {},
   "outputs": [
    {
     "name": "stdout",
     "output_type": "stream",
     "text": [
      "[265 270 272 223]\n",
      "[265 289 272 223]\n",
      "[238.5 260.1 244.8 200.7]\n"
     ]
    }
   ],
   "source": [
    "listed_range = np.array([265, 270, 272, 223])\n",
    "\n",
    "# Create a copy of listed_Range\n",
    "tested_range = listed_range.copy()\n",
    "\n",
    "# Change the elment on the copy\n",
    "tested_range[1] = 289\n",
    "\n",
    "# Define safe range array as 90% of tested_range\n",
    "safe_range = tested_range * .9\n",
    "\n",
    "print(listed_range)\n",
    "print(tested_range)\n",
    "print(safe_range)"
   ]
  },
  {
   "cell_type": "markdown",
   "id": "966310d4-3116-4eab-8f5a-a928f02860d2",
   "metadata": {},
   "source": [
    "The `copy` function allows one to \"modify on copy\"."
   ]
  },
  {
   "cell_type": "markdown",
   "id": "7a3854b7-dbbd-4422-b96f-cc23ac7722bc",
   "metadata": {},
   "source": [
    "# Question 2"
   ]
  },
  {
   "cell_type": "code",
   "execution_count": 178,
   "id": "6ea21159-2239-422e-8de3-20d189d43d18",
   "metadata": {},
   "outputs": [
    {
     "name": "stdout",
     "output_type": "stream",
     "text": [
      "['SUV', 'Sedan', 'Sedan', 'SUV']\n",
      "('SUV', 'Sedan', 'Sedan', 'SUV')\n",
      "['SUV' 'Sedan' 'Sedan' 'SUV']\n",
      "{'SUV', 'Sedan'}\n",
      "{'Class': ['SUV', 'Sedan', 'Sedan', 'SUV']}\n"
     ]
    }
   ],
   "source": [
    "class_list = [\"SUV\", \"Sedan\", \"Sedan\", \"SUV\"]\n",
    "class_tuple = (\"SUV\", \"Sedan\", \"Sedan\", \"SUV\")\n",
    "class_array = np.array([\"SUV\", \"Sedan\", \"Sedan\", \"SUV\"])\n",
    "class_set = {\"SUV\", \"Sedan\", \"Sedan\", \"SUV\"}\n",
    "class_dict = {\n",
    "    'Class' : [\"SUV\", \"Sedan\", \"Sedan\", \"SUV\"]\n",
    "}\n",
    "\n",
    "\n",
    "print(class_list)\n",
    "print(class_tuple)\n",
    "print(class_array)\n",
    "print(class_set)\n",
    "print(class_dict)\n",
    "\n"
   ]
  },
  {
   "cell_type": "markdown",
   "id": "f20f55de-88f9-4e67-8eee-f019ca7f0cef",
   "metadata": {},
   "source": [
    "A list, dictionary, tuple, array, and set could all be used to store this information, but not all are approriate. The least appropriate of these four would be the set since it takes only the unique values. Tuples may not be appororiate either depending on if you need to change any of the elements. A NumPy array, dictionary, and a list seem the most appropriate since they are both mutable. "
   ]
  },
  {
   "cell_type": "markdown",
   "id": "959f21c9-f641-4e2c-9d9d-d24d17084381",
   "metadata": {},
   "source": [
    "# Question 3"
   ]
  },
  {
   "cell_type": "code",
   "execution_count": 202,
   "id": "d287faa0-6f08-483c-9d86-0916a3a473ee",
   "metadata": {},
   "outputs": [
    {
     "name": "stdout",
     "output_type": "stream",
     "text": [
      "270 Sedan\n",
      "272 Sedan\n"
     ]
    }
   ],
   "source": [
    "# Explicitly redifining listed_range since the name has been used many times\n",
    "listed_range = np.array([265, 270, 272, 223])\n",
    "\n",
    "# Create for loop that iterates over length of the listed_range\n",
    "for i in range(len(listed_range)):\n",
    "\n",
    "    if listed_range[i] >= 270:\n",
    "\n",
    "        # print the i'th element of range and class\n",
    "        # if the listed range is over 270\n",
    "        print(listed_range[i], class_list[i])\n",
    "        "
   ]
  },
  {
   "cell_type": "markdown",
   "id": "179a7d45-a3b7-4b2d-a68b-45258fe700ee",
   "metadata": {},
   "source": [
    "# Question 4"
   ]
  },
  {
   "cell_type": "code",
   "execution_count": 185,
   "id": "6a9670fb-8b90-48a3-a9ce-159b3d7cff21",
   "metadata": {},
   "outputs": [
    {
     "name": "stdout",
     "output_type": "stream",
     "text": [
      "Original: [265 270 272 223]\n",
      "NumPy Copy: [265 289 272 223]\n",
      "Base Copy: [265 289 272 223]\n"
     ]
    }
   ],
   "source": [
    "listed_range_np_copy = np.copy(listed_range)\n",
    "listed_range_base_copy = listed_range.copy()\n",
    "\n",
    "listed_range_np_copy[1] = 289\n",
    "listed_range_base_copy[1] = 289\n",
    "\n",
    "print(\"Original:\", listed_range)\n",
    "print(\"NumPy Copy:\", listed_range_np_copy)\n",
    "print(\"Base Copy:\", listed_range_base_copy)"
   ]
  },
  {
   "cell_type": "markdown",
   "id": "047dbf61-d2c2-43b5-915b-ed023e2a86f6",
   "metadata": {},
   "source": [
    "Both copies are sucusfully altered without the orignial being changed. "
   ]
  },
  {
   "cell_type": "markdown",
   "id": "0dadd884-7b7d-4517-bbc6-fbbda9e538ca",
   "metadata": {},
   "source": [
    "# Question 5"
   ]
  },
  {
   "cell_type": "code",
   "execution_count": 204,
   "id": "88b57dbb-f92e-4751-b198-bc524ba2ae39",
   "metadata": {},
   "outputs": [
    {
     "name": "stdout",
     "output_type": "stream",
     "text": [
      "       Make          Model  Class  Price  Range\n",
      "0      Audi      Q4 e-tron    SUV  43900    265\n",
      "1  Polestar              2  Sedan  48400    270\n",
      "2     Tesla        Model 3  Sedan  46990    272\n",
      "3     Volvo  XC40 Recharge    SUV  53550    223\n"
     ]
    }
   ],
   "source": [
    "import pandas as pd\n",
    "\n",
    "# Define car dictionary\n",
    "car_dict = {\n",
    "    'Make' : ['Audi', 'Polestar', 'Tesla', 'Volvo'],\n",
    "    'Model' : ['Q4 e-tron', '2', 'Model 3', 'XC40 Recharge'],\n",
    "    'Class' : ['SUV', 'Sedan', 'Sedan', 'SUV'],\n",
    "    'Price' : [43900, 48400, 46990, 53550],\n",
    "    'Range' : [265, 270, 272, 223]\n",
    "}\n",
    "\n",
    "# Convert dictionary to a data frame with pandas\n",
    "car_df = pd.DataFrame(car_dict)\n",
    "print(car_df)"
   ]
  },
  {
   "cell_type": "code",
   "execution_count": null,
   "id": "9638de5c-7f9b-491b-9fd9-ae9611f6b154",
   "metadata": {},
   "outputs": [],
   "source": []
  }
 ],
 "metadata": {
  "kernelspec": {
   "display_name": "Python 3 (ipykernel)",
   "language": "python",
   "name": "python3"
  },
  "language_info": {
   "codemirror_mode": {
    "name": "ipython",
    "version": 3
   },
   "file_extension": ".py",
   "mimetype": "text/x-python",
   "name": "python",
   "nbconvert_exporter": "python",
   "pygments_lexer": "ipython3",
   "version": "3.11.7"
  }
 },
 "nbformat": 4,
 "nbformat_minor": 5
}
