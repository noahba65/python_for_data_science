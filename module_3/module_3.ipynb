{
 "cells": [
  {
   "cell_type": "markdown",
   "id": "9d70a425-58f2-4922-b01f-a4ca2759f7f4",
   "metadata": {},
   "source": [
    "Noah Anderson  \n",
    "Module 3  \n",
    "6/21/2024  "
   ]
  },
  {
   "cell_type": "markdown",
   "id": "5ba07494-133c-4d91-aa9a-aa1bf85149b7",
   "metadata": {},
   "source": [
    "# Question 1"
   ]
  },
  {
   "cell_type": "code",
   "execution_count": 3,
   "id": "940ea0a2-67a0-46bf-bdb2-5f353a1b6db7",
   "metadata": {},
   "outputs": [
    {
     "data": {
      "text/html": [
       "<div>\n",
       "<style scoped>\n",
       "    .dataframe tbody tr th:only-of-type {\n",
       "        vertical-align: middle;\n",
       "    }\n",
       "\n",
       "    .dataframe tbody tr th {\n",
       "        vertical-align: top;\n",
       "    }\n",
       "\n",
       "    .dataframe thead th {\n",
       "        text-align: right;\n",
       "    }\n",
       "</style>\n",
       "<table border=\"1\" class=\"dataframe\">\n",
       "  <thead>\n",
       "    <tr style=\"text-align: right;\">\n",
       "      <th></th>\n",
       "      <th>Even</th>\n",
       "      <th>Odd</th>\n",
       "    </tr>\n",
       "  </thead>\n",
       "  <tbody>\n",
       "    <tr>\n",
       "      <th>0</th>\n",
       "      <td>2</td>\n",
       "      <td>1</td>\n",
       "    </tr>\n",
       "    <tr>\n",
       "      <th>1</th>\n",
       "      <td>4</td>\n",
       "      <td>3</td>\n",
       "    </tr>\n",
       "    <tr>\n",
       "      <th>2</th>\n",
       "      <td>6</td>\n",
       "      <td>5</td>\n",
       "    </tr>\n",
       "  </tbody>\n",
       "</table>\n",
       "</div>"
      ],
      "text/plain": [
       "   Even  Odd\n",
       "0     2    1\n",
       "1     4    3\n",
       "2     6    5"
      ]
     },
     "execution_count": 3,
     "metadata": {},
     "output_type": "execute_result"
    }
   ],
   "source": [
    "import pandas as pd\n",
    "df1 = pd.DataFrame({'Even': [2, 4, 6], 'Odd': [1, 3, 5]})\n",
    "df1"
   ]
  },
  {
   "cell_type": "markdown",
   "id": "eb14d467-a641-48f2-aded-f694627195a4",
   "metadata": {},
   "source": [
    "## a. "
   ]
  },
  {
   "cell_type": "code",
   "execution_count": 5,
   "id": "4a20cdac-260a-4ee7-8292-510175e272d4",
   "metadata": {},
   "outputs": [
    {
     "name": "stdout",
     "output_type": "stream",
     "text": [
      "   Even  Odd\n",
      "0     0    1\n",
      "1     4    3\n",
      "   Even  Odd\n",
      "0     2    1\n",
      "1     4    3\n",
      "2     6    5\n"
     ]
    }
   ],
   "source": [
    "# Indexing with iloc\n",
    "df1 = pd.DataFrame({'Even': [2, 4, 6], 'Odd': [1, 3, 5]})\n",
    "df2 = df1.iloc[[0, 1], [0, 1]]\n",
    "df2.iloc[0, 0] = 0\n",
    "print(df2)\n",
    "print(df1)\n"
   ]
  },
  {
   "cell_type": "markdown",
   "id": "a39dee07-b9e8-408c-80bf-f14f5cd79d8d",
   "metadata": {},
   "source": [
    "In this case indexing with `iloc` creates a copy of `df1` which explains why `df1` is unchanged when printed. "
   ]
  },
  {
   "cell_type": "code",
   "execution_count": 7,
   "id": "bce9418d-a44c-4f2d-878c-6493647bc135",
   "metadata": {},
   "outputs": [
    {
     "name": "stdout",
     "output_type": "stream",
     "text": [
      "   Even  Odd\n",
      "0     0    1\n",
      "1     4    3\n",
      "   Even  Odd\n",
      "0     0    1\n",
      "1     4    3\n",
      "2     6    5\n"
     ]
    },
    {
     "name": "stderr",
     "output_type": "stream",
     "text": [
      "/var/folders/gw/q9_8w8jn0js6k5m5d98vhhcdzkx593/T/ipykernel_32314/2128375444.py:4: SettingWithCopyWarning: \n",
      "A value is trying to be set on a copy of a slice from a DataFrame\n",
      "\n",
      "See the caveats in the documentation: https://pandas.pydata.org/pandas-docs/stable/user_guide/indexing.html#returning-a-view-versus-a-copy\n",
      "  df2.iloc[0, 0] = 0\n"
     ]
    }
   ],
   "source": [
    "# Slicing \n",
    "df1 = pd.DataFrame({'Even': [2, 4, 6], 'Odd': [1, 3, 5]})\n",
    "df2 = df1[0:2]\n",
    "df2.iloc[0, 0] = 0\n",
    "print(df2)\n",
    "print(df1)"
   ]
  },
  {
   "cell_type": "markdown",
   "id": "c55ed0fa-eb94-4fff-b5ba-adeed368eb04",
   "metadata": {},
   "source": [
    "In this case slicing creates a view of `df1` which explains why `df1` is changed when printed. "
   ]
  },
  {
   "cell_type": "code",
   "execution_count": 9,
   "id": "7b2ed5b1-04e2-4ede-a618-b6e2d409a110",
   "metadata": {},
   "outputs": [
    {
     "name": "stdout",
     "output_type": "stream",
     "text": [
      "   Even  Odd\n",
      "0     0    1\n",
      "1     4    3\n",
      "   Even  Odd\n",
      "0     2    1\n",
      "1     4    3\n",
      "2     6    5\n"
     ]
    },
    {
     "name": "stderr",
     "output_type": "stream",
     "text": [
      "/var/folders/gw/q9_8w8jn0js6k5m5d98vhhcdzkx593/T/ipykernel_32314/1652574861.py:4: SettingWithCopyWarning: \n",
      "A value is trying to be set on a copy of a slice from a DataFrame\n",
      "\n",
      "See the caveats in the documentation: https://pandas.pydata.org/pandas-docs/stable/user_guide/indexing.html#returning-a-view-versus-a-copy\n",
      "  df2.iloc[0, 0] = 0\n"
     ]
    }
   ],
   "source": [
    "# Boolean Expression\n",
    "df1 = pd.DataFrame({'Even': [2, 4, 6], 'Odd': [1, 3, 5]})\n",
    "df2 = df1[df1.Even < 6]\n",
    "df2.iloc[0, 0] = 0\n",
    "print(df2)\n",
    "print(df1)"
   ]
  },
  {
   "cell_type": "markdown",
   "id": "8a141e3a-e1da-4d5a-b442-db860116afce",
   "metadata": {},
   "source": [
    "In this case boolean indexing creates a copy when modified as seen by `df1` remaining unchanged when printed. "
   ]
  },
  {
   "cell_type": "code",
   "execution_count": 11,
   "id": "866caf66-a151-46bc-a37f-fd5661b2e0ad",
   "metadata": {},
   "outputs": [
    {
     "name": "stdout",
     "output_type": "stream",
     "text": [
      "   Even  Odd\n",
      "0     0    1\n",
      "1     4    3\n",
      "   Even  Odd\n",
      "0     2    1\n",
      "1     4    3\n",
      "2     6    5\n"
     ]
    }
   ],
   "source": [
    "# Pandas Methods\n",
    "df1 = pd.DataFrame({'Even': [2, 4, 6], 'Odd': [1, 3, 5]})\n",
    "df2 = (df1\n",
    "  .query('Even < 6')\n",
    "  .assign(Even = [0, 4])\n",
    ")\n",
    "print(df2)\n",
    "print(df1)"
   ]
  },
  {
   "cell_type": "markdown",
   "id": "514e72b7-e822-44c2-b456-8cb2f1c5b9b1",
   "metadata": {},
   "source": [
    "In this case, indexing through query copies on modify as seen by `df1` being unchanged when printed. \n",
    "\n",
    "For these use cases, `iloc`, boolean indexing, and querying all copy when indexed wheras slicing modifies in place altering the original data frame. "
   ]
  },
  {
   "cell_type": "markdown",
   "id": "673e0a95-d10a-464b-8c1c-44a325875163",
   "metadata": {},
   "source": [
    "## b. \n",
    "\n"
   ]
  },
  {
   "cell_type": "code",
   "execution_count": 14,
   "id": "badd4265-c917-4d4d-aaac-08c37b82219a",
   "metadata": {},
   "outputs": [
    {
     "name": "stdout",
     "output_type": "stream",
     "text": [
      "   Even  Odd\n",
      "0     0    1\n",
      "1     4    3\n",
      "   Even  Odd\n",
      "0     2    1\n",
      "1     4    3\n",
      "2     6    5\n"
     ]
    }
   ],
   "source": [
    "# Indexing with iloc using .copy\n",
    "df1 = pd.DataFrame({'Even': [2, 4, 6], 'Odd': [1, 3, 5]})\n",
    "df2 = df1.iloc[[0, 1], [0, 1]].copy()\n",
    "df2.iloc[0, 0] = 0\n",
    "print(df2)\n",
    "print(df1)"
   ]
  },
  {
   "cell_type": "code",
   "execution_count": 15,
   "id": "4dc3584b-ed3a-4252-9986-f882b1a0bc93",
   "metadata": {},
   "outputs": [
    {
     "name": "stdout",
     "output_type": "stream",
     "text": [
      "   Even  Odd\n",
      "0     0    1\n",
      "1     4    3\n",
      "   Even  Odd\n",
      "0     2    1\n",
      "1     4    3\n",
      "2     6    5\n"
     ]
    }
   ],
   "source": [
    "# Slicing with .copy\n",
    "df1 = pd.DataFrame({'Even': [2, 4, 6], 'Odd': [1, 3, 5]})\n",
    "df2 = df1[0:2].copy()\n",
    "df2.iloc[0, 0] = 0\n",
    "print(df2)\n",
    "print(df1)"
   ]
  },
  {
   "cell_type": "code",
   "execution_count": 16,
   "id": "fa80e549-4068-4efe-b4b7-5044e646ddf5",
   "metadata": {},
   "outputs": [
    {
     "name": "stdout",
     "output_type": "stream",
     "text": [
      "   Even  Odd\n",
      "0     0    1\n",
      "1     4    3\n",
      "   Even  Odd\n",
      "0     2    1\n",
      "1     4    3\n",
      "2     6    5\n"
     ]
    }
   ],
   "source": [
    "# Boolean Expression .copy\n",
    "df1 = pd.DataFrame({'Even': [2, 4, 6], 'Odd': [1, 3, 5]})\n",
    "df2 = df1[df1.Even < 6].copy()\n",
    "df2.iloc[0, 0] = 0\n",
    "print(df2)\n",
    "print(df1)"
   ]
  },
  {
   "cell_type": "code",
   "execution_count": 17,
   "id": "1e5b5215-984d-4e7f-a86d-875f8e00ba05",
   "metadata": {},
   "outputs": [
    {
     "name": "stdout",
     "output_type": "stream",
     "text": [
      "   Even  Odd\n",
      "0     0    1\n",
      "1     4    3\n",
      "   Even  Odd\n",
      "0     2    1\n",
      "1     4    3\n",
      "2     6    5\n"
     ]
    }
   ],
   "source": [
    "# Pandas Methods .copy\n",
    "df1 = pd.DataFrame({'Even': [2, 4, 6], 'Odd': [1, 3, 5]})\n",
    "df2 = (df1\n",
    "  .query('Even < 6')\n",
    "  .assign(Even = [0, 4])\n",
    ").copy()\n",
    "print(df2)\n",
    "print(df1)"
   ]
  },
  {
   "cell_type": "markdown",
   "id": "6684a234-e976-4da1-a889-80b506420948",
   "metadata": {},
   "source": [
    "All the code chunks have consistent results when using `.copy` now copying on modification. All warnings have disappeared now. "
   ]
  },
  {
   "cell_type": "markdown",
   "id": "48d201ed-d4d0-420c-a3b9-471160ca3efc",
   "metadata": {},
   "source": [
    "# Question 2"
   ]
  },
  {
   "cell_type": "markdown",
   "id": "2b6baa2d-903d-42d2-82d0-33f622cd5aad",
   "metadata": {},
   "source": [
    "# a. "
   ]
  },
  {
   "cell_type": "code",
   "execution_count": 21,
   "id": "67bf170c-ad5a-4488-8a71-e73973f1faf6",
   "metadata": {},
   "outputs": [],
   "source": [
    "churn = pd.read_csv(\"churn_modeling.csv\")"
   ]
  },
  {
   "cell_type": "markdown",
   "id": "64e3263e-535f-4319-a7d1-8bcfc3a20aef",
   "metadata": {},
   "source": [
    "## b. "
   ]
  },
  {
   "cell_type": "code",
   "execution_count": 23,
   "id": "10c745f2-58fe-4a21-b9ea-127088df128c",
   "metadata": {},
   "outputs": [],
   "source": [
    "churn = churn.drop(columns = [ \"RowNumber\", \"Surname\", \"Gender\", \"Age\"])"
   ]
  },
  {
   "cell_type": "markdown",
   "id": "c8728b6e-5ed5-4bb9-a954-a0d7fe917bc5",
   "metadata": {},
   "source": [
    "## c. "
   ]
  },
  {
   "cell_type": "code",
   "execution_count": 25,
   "id": "25e166e9",
   "metadata": {},
   "outputs": [
    {
     "data": {
      "text/plain": [
       "CustomerId         False\n",
       "CreditScore        False\n",
       "Geography          False\n",
       "Tenure             False\n",
       "Balance            False\n",
       "NumOfProducts      False\n",
       "HasCrCard          False\n",
       "IsActiveMember     False\n",
       "EstimatedSalary    False\n",
       "Exited             False\n",
       "dtype: bool"
      ]
     },
     "execution_count": 25,
     "metadata": {},
     "output_type": "execute_result"
    }
   ],
   "source": [
    "churn.isna().any()"
   ]
  },
  {
   "cell_type": "markdown",
   "id": "1beb363f",
   "metadata": {},
   "source": [
    "With all column values returning `FALSE` for `is.na`, we can conclude that there is no missing data."
   ]
  },
  {
   "cell_type": "markdown",
   "id": "2e029a25-dd7f-407b-a894-699d972cab82",
   "metadata": {},
   "source": [
    "## d. "
   ]
  },
  {
   "cell_type": "code",
   "execution_count": 28,
   "id": "a2d9c7b9",
   "metadata": {},
   "outputs": [
    {
     "data": {
      "text/html": [
       "<div>\n",
       "<style scoped>\n",
       "    .dataframe tbody tr th:only-of-type {\n",
       "        vertical-align: middle;\n",
       "    }\n",
       "\n",
       "    .dataframe tbody tr th {\n",
       "        vertical-align: top;\n",
       "    }\n",
       "\n",
       "    .dataframe thead th {\n",
       "        text-align: right;\n",
       "    }\n",
       "</style>\n",
       "<table border=\"1\" class=\"dataframe\">\n",
       "  <thead>\n",
       "    <tr style=\"text-align: right;\">\n",
       "      <th></th>\n",
       "      <th></th>\n",
       "      <th>average_estimate</th>\n",
       "    </tr>\n",
       "    <tr>\n",
       "      <th>Geography</th>\n",
       "      <th>Exited</th>\n",
       "      <th></th>\n",
       "    </tr>\n",
       "  </thead>\n",
       "  <tbody>\n",
       "    <tr>\n",
       "      <th rowspan=\"2\" valign=\"top\">France</th>\n",
       "      <th>0</th>\n",
       "      <td>60339.28</td>\n",
       "    </tr>\n",
       "    <tr>\n",
       "      <th>1</th>\n",
       "      <td>71192.80</td>\n",
       "    </tr>\n",
       "    <tr>\n",
       "      <th rowspan=\"2\" valign=\"top\">Germany</th>\n",
       "      <th>0</th>\n",
       "      <td>119427.11</td>\n",
       "    </tr>\n",
       "    <tr>\n",
       "      <th>1</th>\n",
       "      <td>120361.08</td>\n",
       "    </tr>\n",
       "    <tr>\n",
       "      <th rowspan=\"2\" valign=\"top\">Spain</th>\n",
       "      <th>0</th>\n",
       "      <td>59678.07</td>\n",
       "    </tr>\n",
       "    <tr>\n",
       "      <th>1</th>\n",
       "      <td>72513.35</td>\n",
       "    </tr>\n",
       "  </tbody>\n",
       "</table>\n",
       "</div>"
      ],
      "text/plain": [
       "                  average_estimate\n",
       "Geography Exited                  \n",
       "France    0               60339.28\n",
       "          1               71192.80\n",
       "Germany   0              119427.11\n",
       "          1              120361.08\n",
       "Spain     0               59678.07\n",
       "          1               72513.35"
      ]
     },
     "execution_count": 28,
     "metadata": {},
     "output_type": "execute_result"
    }
   ],
   "source": [
    "(churn\n",
    " .groupby(['Geography', 'Exited']) # Group by Geography and Exited\n",
    " .agg(average_estimate = ('Balance', 'mean')) # Calculate mean Balance\n",
    " .round(2) # Round to the nearest cent\n",
    " )"
   ]
  },
  {
   "cell_type": "markdown",
   "id": "699bb6ab",
   "metadata": {},
   "source": [
    "It does appear that there is a difference between customers who exited and those who did not and this does appear to also very by country. In Spain and France, those who exited had on average more than $\\$ 10,000$ those who did not. In Germany the two categories are aproximately equal differing only by around $\\$ 1,000$."
   ]
  },
  {
   "cell_type": "markdown",
   "id": "4004da51-e29a-47b1-b689-1d17683f53a7",
   "metadata": {},
   "source": [
    "## e."
   ]
  },
  {
   "cell_type": "code",
   "execution_count": 58,
   "id": "e22597aa-b6c8-4c34-8c55-8faa237a87c2",
   "metadata": {},
   "outputs": [
    {
     "name": "stdout",
     "output_type": "stream",
     "text": [
      "The percent of customers who left and returned to the bank is 0.86 %\n"
     ]
    }
   ],
   "source": [
    "# Read in new customer data\n",
    "\n",
    "new_cust = pd.read_csv(\"new_customers.csv\")\n",
    "\n",
    "# Merge new customer data with the churn data nad filter out data where Exited is not 0.\n",
    "cust_merge = (pd.merge(new_cust, churn, 'left', 'CustomerId')\n",
    "              .query('Exited != 0'))\n",
    "\n",
    "exited_perc = cust_merge['Exited'].sum() / cust_merge.shape[0] * 100\n",
    "\n",
    "exited_perc_round = round(exited_perc, 2)\n",
    "print(\"The percent of customers who left and returned to the bank is\", \n",
    "      exited_perc_round, \"%\")"
   ]
  },
  {
   "cell_type": "code",
   "execution_count": null,
   "id": "8f0f40e2-be1d-42ed-b2ea-7d1db9dc0c01",
   "metadata": {},
   "outputs": [],
   "source": []
  }
 ],
 "metadata": {
  "kernelspec": {
   "display_name": "Python 3 (ipykernel)",
   "language": "python",
   "name": "python3"
  },
  "language_info": {
   "codemirror_mode": {
    "name": "ipython",
    "version": 3
   },
   "file_extension": ".py",
   "mimetype": "text/x-python",
   "name": "python",
   "nbconvert_exporter": "python",
   "pygments_lexer": "ipython3",
   "version": "3.11.7"
  }
 },
 "nbformat": 4,
 "nbformat_minor": 5
}
